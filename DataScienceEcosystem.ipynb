{
 "cells": [
  {
   "cell_type": "markdown",
   "id": "3acc200d-9128-4c10-a1a5-c77b4290f910",
   "metadata": {},
   "source": [
    "# Data Science Tools and Ecosystem"
   ]
  },
  {
   "cell_type": "markdown",
   "id": "64b070a3-630d-409c-891d-3ceabdfde7b3",
   "metadata": {},
   "source": [
    "# Introduction\n",
    "Data Science Tools and Ecosystem are summarized"
   ]
  },
  {
   "cell_type": "markdown",
   "id": "d9f4c053-473b-497c-8c11-a7bbd2f63654",
   "metadata": {},
   "source": [
    "##  Some of the popular languages that Data Scientists use are:\n",
    "1. Python\n",
    "2. R\n",
    "3. SQL\n",
    "4. Julia"
   ]
  },
  {
   "cell_type": "markdown",
   "id": "3d443be0-5659-4ade-8402-9df0502cbdd3",
   "metadata": {},
   "source": [
    "##  Some of the commonly used libraries used by Data Scientists include:\n",
    "1. ggplot\n",
    "2. matplotlib\n",
    "3. plotly\n",
    "4. pandas\n",
    "5. NumPy"
   ]
  },
  {
   "cell_type": "markdown",
   "id": "f0f583df-c171-4216-8be0-0ec46a04f3c3",
   "metadata": {},
   "source": [
    "##  Data Science tools\n",
    " | Data Science Tools| R Studio| Apache Spark | Apache Hadoop |\n",
    " |----| ----| -------| -----|"
   ]
  },
  {
   "cell_type": "markdown",
   "id": "d61db01f-4528-4fc8-b9b8-c00f9755a196",
   "metadata": {},
   "source": [
    "### Below are a few examples of evaluating arithmetic expressions in Python.\n",
    " "
   ]
  },
  {
   "cell_type": "code",
   "execution_count": 2,
   "id": "4e3b3f16-1391-4f85-ba73-ad55413869af",
   "metadata": {},
   "outputs": [
    {
     "data": {
      "text/plain": [
       "17"
      ]
     },
     "execution_count": 2,
     "metadata": {},
     "output_type": "execute_result"
    }
   ],
   "source": [
    "#This is a simple arithmetic expression to mutiply then add integers-\n",
    "(3*4)+5"
   ]
  },
  {
   "cell_type": "code",
   "execution_count": 4,
   "id": "8b8437fd-966a-4482-add6-bd8640f9c0ab",
   "metadata": {},
   "outputs": [
    {
     "data": {
      "text/plain": [
       "3.3333333333333335"
      ]
     },
     "execution_count": 4,
     "metadata": {},
     "output_type": "execute_result"
    }
   ],
   "source": [
    "#This will convert 200 minutes to hours by diving by 60\n",
    "200/60\n"
   ]
  },
  {
   "cell_type": "markdown",
   "id": "5b2354ca-9267-4374-a83c-c9a20cdcf049",
   "metadata": {},
   "source": [
    "#  Objectives:\n",
    "###  List popular languages for Data Science:\n",
    "- Pyhton\n",
    "- R\n",
    "- SQL\n"
   ]
  },
  {
   "cell_type": "markdown",
   "id": "5d0a8f85-7a9d-4930-964a-2cd32573c85f",
   "metadata": {},
   "source": []
  }
 ],
 "metadata": {
  "kernelspec": {
   "display_name": "Python 3 (ipykernel)",
   "language": "python",
   "name": "python3"
  },
  "language_info": {
   "codemirror_mode": {
    "name": "ipython",
    "version": 3
   },
   "file_extension": ".py",
   "mimetype": "text/x-python",
   "name": "python",
   "nbconvert_exporter": "python",
   "pygments_lexer": "ipython3",
   "version": "3.12.8"
  }
 },
 "nbformat": 4,
 "nbformat_minor": 5
}
